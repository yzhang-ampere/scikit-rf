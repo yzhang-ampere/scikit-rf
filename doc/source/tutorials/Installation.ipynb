{
 "cells": [
  {
   "cell_type": "markdown",
   "metadata": {},
   "source": [
    "# Installation"
   ]
  },
  {
   "cell_type": "markdown",
   "metadata": {},
   "source": [
    "## anaconda (recommended)\n",
    "\n",
    "The easiest way to install **scikit-rf** is to first install \n",
    "[anaconda](http://continuum.io/downloads), a binary package manager for python modules. Once anaconda is setup you can install scikit-rf by entering the following into a terminal (do not forget the `-c conda-forge` option):\n",
    "\n",
    "    conda install -c conda-forge  scikit-rf"
   ]
  },
  {
   "cell_type": "markdown",
   "metadata": {},
   "source": [
    "## pip\n",
    "\n",
    "\n",
    "Using the [Python Package Index (PyPi)](https://pypi.org/), you can install **scikit-rf** using:\n",
    "\n",
    "    pip install scikit-rf"
   ]
  },
  {
   "cell_type": "markdown",
   "metadata": {},
   "source": [
    "## git\n",
    "\n",
    "The bleeding-edge development version of **scikit-rf** may be installed from our [github page](https://github.com/scikit-rf/scikit-rf). You can use git directly, or download a zipfile.\n",
    "\n",
    "    git clone git@github.com:scikit-rf/scikit-rf.git\n",
    "    cd scikit-rf\n",
    "    python setup.py install"
   ]
  },
  {
   "cell_type": "markdown",
   "metadata": {},
   "source": [
    "## Optional Modules\n",
    "\n",
    "Some features of scikit-rf wont be available until you install additional\n",
    "modules. You can install these using conda or pip."
   ]
  },
  {
   "attachments": {},
   "cell_type": "markdown",
   "metadata": {},
   "source": [
    "### Instrument Control\n",
    "\n",
    "To use the vi module, you must install all of its dependencies. This can be done\n",
    "with\n",
    "\n",
    "$ pip install scikit-rf[visa]\n",
    "\n",
    "which will install the following:\n",
    "\n",
    "- [pyvisa](https://pyvisa.readthedocs.io/en/latest/)\n",
    "- [pyvisa-py](https://pyvisa.readthedocs.io/projects/pyvisa-py/en/latest/)"
   ]
  },
  {
   "attachments": {},
   "cell_type": "markdown",
   "metadata": {},
   "source": [
    "<div class=\"alert alert-warning\">\n",
    "    Warning about instrument communications\n",
    "\n",
    "    The above should be enough to communicate with many instruments. However,\n",
    "    some of us have had difficult to resolve issues with certain instrument\n",
    "    configurations that require particular setups. For example, to communicate\n",
    "    with Keysight's N5227B PNA over GPIB, we had to install the \n",
    "    <a href=\"https://www.keysight.com/us/en/lib/software-detail/computer-software/io-libraries-suite-downloads-2175637.html\">Keysight IO Libraries Suite</a> \n",
    "\n",
    "    When using the virtual instrument module, you have the option of specifying\n",
    "    the backend that PyVISA uses to communicate with instruments. By default,\n",
    "    this is PyVISA-py, the fully Python VISA implementation, but in the case\n",
    "    above with the Keysight Analyzer, we had to specify the exact .dll of the\n",
    "    VISA driver. More information can be found\n",
    "    [here](https://pyvisa.readthedocs.io/en/latest/advanced/backends.html) on\n",
    "    VISA backends, but if you have issues, please submit a detailed bug report!\n",
    "</div>"
   ]
  },
  {
   "cell_type": "markdown",
   "metadata": {},
   "source": [
    "### Excel file export\n",
    "\n",
    "*   xlrd\n",
    "*   xlwt http://www.python-excel.org/ - for xls reading/writing"
   ]
  },
  {
   "cell_type": "code",
   "execution_count": null,
   "metadata": {},
   "outputs": [],
   "source": []
  }
 ],
 "metadata": {
  "anaconda-cloud": {},
  "celltoolbar": "Raw Cell Format",
  "kernelspec": {
   "display_name": "Python 3.10.4 ('skrf')",
   "language": "python",
   "name": "python3"
  },
  "language_info": {
   "codemirror_mode": {
    "name": "ipython",
    "version": 3
   },
   "file_extension": ".py",
   "mimetype": "text/x-python",
   "name": "python",
   "nbconvert_exporter": "python",
   "pygments_lexer": "ipython3",
   "version": "3.10.4"
  },
  "toc": {
   "base_numbering": 1,
   "nav_menu": {},
   "number_sections": true,
   "sideBar": true,
   "skip_h1_title": false,
   "title_cell": "Table of Contents",
   "title_sidebar": "Contents",
   "toc_cell": false,
   "toc_position": {},
   "toc_section_display": "block",
   "toc_window_display": false
  },
  "vscode": {
   "interpreter": {
    "hash": "6e9ab46c0308d25f8ecf2297d605bcf30c0184a06f23fc8ad30aef47f26c08c0"
   }
  }
 },
 "nbformat": 4,
 "nbformat_minor": 1
}
